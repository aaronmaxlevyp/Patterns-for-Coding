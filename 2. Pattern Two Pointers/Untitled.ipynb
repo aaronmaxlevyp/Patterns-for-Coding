{
 "cells": [
  {
   "cell_type": "code",
   "execution_count": 4,
   "metadata": {},
   "outputs": [
    {
     "name": "stdout",
     "output_type": "stream",
     "text": [
      "2 2 [2]\n",
      "5 5 [5]\n",
      "2 5 [2, 5]\n",
      "3 3 [3]\n",
      "5 3 [5, 3]\n",
      "10 10 [10]\n",
      "[[2], [5], [2, 5], [3], [5, 3], [10]]\n",
      "8 8 [8]\n",
      "2 2 [2]\n",
      "8 2 [8, 2]\n",
      "6 6 [6]\n",
      "2 6 [2, 6]\n",
      "5 5 [5]\n",
      "6 5 [6, 5]\n",
      "[[8], [2], [8, 2], [6], [2, 6], [5], [6, 5]]\n"
     ]
    }
   ],
   "source": [
    "from collections import deque\n",
    "\n",
    "\n",
    "def find_subarrays(arr, target):\n",
    "  result = []\n",
    "  product = 1\n",
    "  left = 0\n",
    "  for right in range(len(arr)):\n",
    "    product *= arr[right]\n",
    "    while (product >= target and left < len(arr)):\n",
    "      product /= arr[left]\n",
    "      left += 1\n",
    "    # since the product of all numbers from left to right is less than the target therefore,\n",
    "    # all subarrays from lef to right will have a product less than the target too; to avoid\n",
    "    # duplicates, we will start with a subarray containing only arr[right] and then extend it\n",
    "    temp_list = deque()\n",
    "    for i in range(right, left-1, -1):\n",
    "      temp_list.appendleft(arr[i])\n",
    "      print(arr[i], arr[right],list(temp_list))\n",
    "      result.append(list(temp_list))\n",
    "  return result\n",
    "\n",
    "\n",
    "def main():\n",
    "  print(find_subarrays([2, 5, 3, 10], 30))\n",
    "  print(find_subarrays([8, 2, 6, 5], 50))\n",
    "\n",
    "\n",
    "main()\n"
   ]
  },
  {
   "cell_type": "code",
   "execution_count": 30,
   "metadata": {},
   "outputs": [],
   "source": [
    "def find_subarrays(arr, target):\n",
    "  result = []\n",
    "  product = 1\n",
    "  win_start=0\n",
    "\n",
    "  for win_end in range(len(arr)):\n",
    "\n",
    "    product *= arr[win_end]\n",
    "    print(product)\n",
    "    \n",
    "    while product >= target and win_start < len(arr):\n",
    "      product /= arr[win_start]\n",
    "      win_start += 1\n",
    "    \n",
    "    if product < target:\n",
    "      temp_i=[]\n",
    "      for i in range(win_end, win_start-1,-1):\n",
    "        temp_i.append(arr[i])     \n",
    "        temp=temp_i.copy()\n",
    "        result.append(temp)\n",
    "\n",
    "    \n",
    "\n",
    "  # TODO: Write your code here\n",
    "  return result\n"
   ]
  },
  {
   "cell_type": "code",
   "execution_count": 31,
   "metadata": {},
   "outputs": [
    {
     "name": "stdout",
     "output_type": "stream",
     "text": [
      "2\n",
      "10\n",
      "30\n",
      "150.0\n"
     ]
    },
    {
     "data": {
      "text/plain": [
       "[[2], [5], [5, 2], [3], [3, 5], [10]]"
      ]
     },
     "execution_count": 31,
     "metadata": {},
     "output_type": "execute_result"
    }
   ],
   "source": [
    "find_subarrays([2, 5, 3, 10], 30)"
   ]
  }
 ],
 "metadata": {
  "kernelspec": {
   "display_name": "Python 3",
   "language": "python",
   "name": "python3"
  },
  "language_info": {
   "codemirror_mode": {
    "name": "ipython",
    "version": 3
   },
   "file_extension": ".py",
   "mimetype": "text/x-python",
   "name": "python",
   "nbconvert_exporter": "python",
   "pygments_lexer": "ipython3",
   "version": "3.7.4"
  }
 },
 "nbformat": 4,
 "nbformat_minor": 2
}
